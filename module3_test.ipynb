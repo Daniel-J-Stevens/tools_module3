{
 "cells": [
  {
   "cell_type": "markdown",
   "id": "cb88181e-d97d-40a3-be87-aef1c0a7004b",
   "metadata": {},
   "source": [
    "### This is a TEST"
   ]
  },
  {
   "cell_type": "code",
   "execution_count": 1,
   "id": "75f9d052-12e9-430b-8cc6-59d2caf44716",
   "metadata": {},
   "outputs": [],
   "source": [
    "import pandas as pd"
   ]
  },
  {
   "cell_type": "code",
   "execution_count": 3,
   "id": "f53be728-36e5-484f-bab4-5953016dfd82",
   "metadata": {},
   "outputs": [
    {
     "data": {
      "text/plain": [
       "'Test'"
      ]
     },
     "execution_count": 3,
     "metadata": {},
     "output_type": "execute_result"
    }
   ],
   "source": [
    "test = \"Test\"\n",
    "test"
   ]
  },
  {
   "cell_type": "code",
   "execution_count": null,
   "id": "d5185e7f-3dad-41e0-87cc-45b126f6b952",
   "metadata": {},
   "outputs": [],
   "source": []
  }
 ],
 "metadata": {
  "kernelspec": {
   "display_name": "Python 3 (ipykernel)",
   "language": "python",
   "name": "python3"
  },
  "language_info": {
   "codemirror_mode": {
    "name": "ipython",
    "version": 3
   },
   "file_extension": ".py",
   "mimetype": "text/x-python",
   "name": "python",
   "nbconvert_exporter": "python",
   "pygments_lexer": "ipython3",
   "version": "3.9.13"
  }
 },
 "nbformat": 4,
 "nbformat_minor": 5
}

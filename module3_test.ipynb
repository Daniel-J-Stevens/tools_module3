{
 "cells": [
  {
   "cell_type": "markdown",
   "id": "cb88181e-d97d-40a3-be87-aef1c0a7004b",
   "metadata": {},
   "source": [
    "### This is a TEST"
   ]
  },
  {
   "cell_type": "code",
   "execution_count": 1,
   "id": "75f9d052-12e9-430b-8cc6-59d2caf44716",
   "metadata": {},
   "outputs": [],
   "source": [
    "import pandas as pd"
   ]
  },
  {
   "cell_type": "code",
   "execution_count": 3,
   "id": "f53be728-36e5-484f-bab4-5953016dfd82",
   "metadata": {},
   "outputs": [
    {
     "data": {
      "text/plain": [
       "'Test'"
      ]
     },
     "execution_count": 3,
     "metadata": {},
     "output_type": "execute_result"
    }
   ],
   "source": [
    "test = \"Test\"\n",
    "test"
   ]
  },
  {
   "cell_type": "markdown",
   "id": "69256be4-2fde-48b4-b0ad-6ed6b18aeaaa",
   "metadata": {},
   "source": [
    "### Add another markdown"
   ]
  },
  {
   "cell_type": "markdown",
   "id": "860631bf-870a-4f84-bc7b-1724c39d14ea",
   "metadata": {},
   "source": [
    "## Testing the -m flag for git commit"
   ]
  },
  {
   "cell_type": "code",
   "execution_count": 4,
   "id": "e25d777e-c64e-45c1-b3a6-052061114357",
   "metadata": {},
   "outputs": [],
   "source": [
    "## test test"
   ]
  },
  {
   "cell_type": "code",
   "execution_count": null,
   "id": "ece14368-6d96-420f-9fcc-53b4d5d0dd97",
   "metadata": {},
   "outputs": [],
   "source": []
  }
 ],
 "metadata": {
  "kernelspec": {
   "display_name": "Python 3 (ipykernel)",
   "language": "python",
   "name": "python3"
  },
  "language_info": {
   "codemirror_mode": {
    "name": "ipython",
    "version": 3
   },
   "file_extension": ".py",
   "mimetype": "text/x-python",
   "name": "python",
   "nbconvert_exporter": "python",
   "pygments_lexer": "ipython3",
   "version": "3.9.13"
  }
 },
 "nbformat": 4,
 "nbformat_minor": 5
}
